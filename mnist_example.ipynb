{
 "cells": [
  {
   "attachments": {},
   "cell_type": "markdown",
   "metadata": {},
   "source": [
    "# Workshop\n",
    "\n",
    "## Agenda \n",
    "- MNIST Dataset\n",
    "- Dense Neural Network\n",
    "- Training\n",
    "- Visualization of results"
   ]
  },
  {
   "cell_type": "markdown",
   "metadata": {},
   "source": [
    "## MNIST Dataset\n",
    "\n",
    "The MNIST (Modified National Institute of Standards and Technology) dataset is a labeled collection containing images of handwritten numbers. \n",
    "\n",
    "![MNIST](https://upload.wikimedia.org/wikipedia/commons/2/27/MnistExamples.png)\n",
    "\n",
    "The machine learning task is to classify the images, i.e. given 28 x 28 pixels of that input image, output the integer displayed on that image. This is a typical benchmark for image processing and machine learning.\n",
    "\n",
    "We can download and prepare the dataset using torchvision. Here, we us a default splitting of the database in a training set containing 60000 samples and a test set containing 10000 samples. We will use the training set to optimize our machine learning model and then the different test set to evaluate the general performance of our model. "
   ]
  },
  {
   "cell_type": "code",
   "execution_count": 1,
   "metadata": {
    "collapsed": true,
    "jupyter": {
     "outputs_hidden": true
    }
   },
   "outputs": [
    {
     "name": "stdout",
     "output_type": "stream",
     "text": [
      "Downloading http://yann.lecun.com/exdb/mnist/train-images-idx3-ubyte.gz\n",
      "Downloading http://yann.lecun.com/exdb/mnist/train-images-idx3-ubyte.gz to data/MNIST/raw/train-images-idx3-ubyte.gz\n"
     ]
    },
    {
     "data": {
      "application/vnd.jupyter.widget-view+json": {
       "model_id": "c18dfb093c9d4daea7e1b681feb8b7e4",
       "version_major": 2,
       "version_minor": 0
      },
      "text/plain": [
       "  0%|          | 0/9912422 [00:00<?, ?it/s]"
      ]
     },
     "metadata": {},
     "output_type": "display_data"
    },
    {
     "name": "stdout",
     "output_type": "stream",
     "text": [
      "Extracting data/MNIST/raw/train-images-idx3-ubyte.gz to data/MNIST/raw\n",
      "\n",
      "Downloading http://yann.lecun.com/exdb/mnist/train-labels-idx1-ubyte.gz\n",
      "Downloading http://yann.lecun.com/exdb/mnist/train-labels-idx1-ubyte.gz to data/MNIST/raw/train-labels-idx1-ubyte.gz\n"
     ]
    },
    {
     "data": {
      "application/vnd.jupyter.widget-view+json": {
       "model_id": "9f9794939b744d5da8f8dca3d70b7b16",
       "version_major": 2,
       "version_minor": 0
      },
      "text/plain": [
       "  0%|          | 0/28881 [00:00<?, ?it/s]"
      ]
     },
     "metadata": {},
     "output_type": "display_data"
    },
    {
     "name": "stdout",
     "output_type": "stream",
     "text": [
      "Extracting data/MNIST/raw/train-labels-idx1-ubyte.gz to data/MNIST/raw\n",
      "\n",
      "Downloading http://yann.lecun.com/exdb/mnist/t10k-images-idx3-ubyte.gz\n",
      "Downloading http://yann.lecun.com/exdb/mnist/t10k-images-idx3-ubyte.gz to data/MNIST/raw/t10k-images-idx3-ubyte.gz\n"
     ]
    },
    {
     "data": {
      "application/vnd.jupyter.widget-view+json": {
       "model_id": "0c0d4aa6953f417cb68a99ec2a1c1988",
       "version_major": 2,
       "version_minor": 0
      },
      "text/plain": [
       "  0%|          | 0/1648877 [00:00<?, ?it/s]"
      ]
     },
     "metadata": {},
     "output_type": "display_data"
    },
    {
     "name": "stdout",
     "output_type": "stream",
     "text": [
      "Extracting data/MNIST/raw/t10k-images-idx3-ubyte.gz to data/MNIST/raw\n",
      "\n",
      "Downloading http://yann.lecun.com/exdb/mnist/t10k-labels-idx1-ubyte.gz\n",
      "Downloading http://yann.lecun.com/exdb/mnist/t10k-labels-idx1-ubyte.gz to data/MNIST/raw/t10k-labels-idx1-ubyte.gz\n"
     ]
    },
    {
     "data": {
      "application/vnd.jupyter.widget-view+json": {
       "model_id": "646b640a746d4106a96c8efbbbf3bcf5",
       "version_major": 2,
       "version_minor": 0
      },
      "text/plain": [
       "  0%|          | 0/4542 [00:00<?, ?it/s]"
      ]
     },
     "metadata": {},
     "output_type": "display_data"
    },
    {
     "name": "stdout",
     "output_type": "stream",
     "text": [
      "Extracting data/MNIST/raw/t10k-labels-idx1-ubyte.gz to data/MNIST/raw\n",
      "\n"
     ]
    }
   ],
   "source": [
    "from torchvision import datasets\n",
    "\n",
    "train_data = datasets.MNIST(root=\"data\", train=True, download=True)\n",
    "test_data = datasets.MNIST(root=\"data\", train=False)"
   ]
  },
  {
   "cell_type": "markdown",
   "metadata": {},
   "source": [
    "Let's take a look at a sample of the dataset: "
   ]
  },
  {
   "cell_type": "code",
   "execution_count": 2,
   "metadata": {
    "collapsed": true,
    "jupyter": {
     "outputs_hidden": true
    }
   },
   "outputs": [
    {
     "data": {
      "image/png": "[encoded data removed]",
      "text/plain": [
       "<Figure size 640x480 with 1 Axes>"
      ]
     },
     "metadata": {},
     "output_type": "display_data"
    }
   ],
   "source": [
    "import matplotlib.pyplot as plt\n",
    "\n",
    "sample = 5 # sample between 0 and 59999\n",
    "plt.imshow(train_data.data[sample], cmap='gray_r')\n",
    "plt.title(f\"Image label: {train_data.targets[sample]}\")\n",
    "plt.show()"
   ]
  },
  {
   "cell_type": "code",
   "execution_count": 3,
   "metadata": {
    "collapsed": true,
    "jupyter": {
     "outputs_hidden": true
    }
   },
   "outputs": [],
   "source": [
    "# Prepare training dataset\n",
    "train_images = train_data.data.float() / 255.0\n",
    "train_labels = train_data.targets\n",
    "\n",
    "# Preprare test dataset\n",
    "test_images = test_data.data.float() / 255.0\n",
    "test_labels = test_data.targets"
   ]
  },
  {
   "cell_type": "markdown",
   "metadata": {},
   "source": [
    "## Create a dense neural network\n",
    "\n",
    "First, we try a dense neural network to solve the image classification task. For each artificial neuron in each layer, this NN does the following: \n",
    "\n",
    "Compute the weighted ($w_i$) sum of all inputs $x_i$ and a bias $b$\n",
    "$$\n",
    "\\tilde{x} = \\sum_i w_i x_i + b.\n",
    "$$\n",
    "Then apply an activation function to this intermediate result \n",
    "$$\n",
    "x = f(\\tilde{x}),\n",
    "$$\n",
    "which is a sigmoid function defined as \n",
    "$$\n",
    "f(x) = \\frac{1}{1+\\exp^{-x}}\n",
    "$$\n",
    "in this case. The activation function allows us to model non-linear classification tasks. \n",
    "\n",
    "Our dense neural network consists of multiple such layers with 784 (28 x 28) at the first input layer, and 10 output neurons. Hence, we can pass an image of 784 pixels into the neural network and will get 10 outputs, each encoding the likelihood of a label. So, with a proper choice of weights and biases in the network, we expect it to produce a result like this, e.g. if we pass in an image showing a two:\n",
    "\n",
    "|0|1|2|3|4|5|6|7|8|9|\n",
    "|-|-|-|-|-|-|-|-|-|-|\n",
    "|0.01|0.05|0.99|0.01|0.03|0.06|0.00|0.12|0.07|0.02|"
   ]
  },
  {
   "cell_type": "code",
   "execution_count": 4,
   "metadata": {
    "collapsed": true,
    "jupyter": {
     "outputs_hidden": true
    }
   },
   "outputs": [],
   "source": [
    "import torch\n",
    "import torch.nn as nn\n",
    "\n",
    "class DenseNet(nn.Module):\n",
    "    def __init__(self):\n",
    "      super().__init__()\n",
    "      self.layer1 = nn.Linear(784, 100)\n",
    "      self.layer2 = nn.Linear(100, 10)\n",
    "\n",
    "    def forward(self, x):\n",
    "      x = self.layer1(x)\n",
    "      x = torch.sigmoid(x)\n",
    "      x = self.layer2(x)\n",
    "      x = torch.sigmoid(x)\n",
    "      return x\n",
    "    \n",
    "dense_net = DenseNet()"
   ]
  },
  {
   "cell_type": "markdown",
   "metadata": {},
   "source": [
    "## Training\n",
    "\n",
    "Initially, the weights and biases are set to random values. Hence, it is pure luck, if the network would predict the correct result at this point. We can describe the quality of its prediction for example with the so-called cross-entropy loss\n",
    "$$\n",
    " L(p, l) = -\\sum_{c=0}^N l_c \\log(p_c)\n",
    "$$\n",
    "for $N$ different classes with predictions $p_c$ and labels $l_c$. In our case, $N=10$. \n",
    "\n",
    "During training, we try to adjust the weights of a neural network to reduce the error. Therefore, we use a gradient decent algortihm (in this case Adam) to minimize the error. This is done by calling `loss.backward()`to compute the gradient of the loss function and then adjusting the weights a tiny bit (`lr`) against the direction of that gradient with `optimizer.step()`. This latest part is the real \"magic\" in training neural networks and requires an automatic differentiation engine, such as PyTorch, JAX or TensorFlow."
   ]
  },
  {
   "cell_type": "code",
   "execution_count": 5,
   "metadata": {
    "collapsed": true,
    "jupyter": {
     "outputs_hidden": true
    }
   },
   "outputs": [
    {
     "name": "stdout",
     "output_type": "stream",
     "text": [
      "Final accuracy on test set is 0.949\n"
     ]
    }
   ],
   "source": [
    "from torch import optim\n",
    "\n",
    "optimizer = optim.Adam(dense_net.parameters(), lr = 0.01)   \n",
    "loss_function = nn.CrossEntropyLoss()\n",
    "\n",
    "train_accuracy = []\n",
    "test_accuracy = []\n",
    "\n",
    "for epoch in range(200):\n",
    "    # Pass images through network and compute loss \n",
    "    # The flatten() command turns the 600000 x 28 x 28 to 60000 x 784\n",
    "    train_prediction = dense_net(train_images.flatten(start_dim=1))\n",
    "    test_prediction = dense_net(test_images.flatten(start_dim=1))\n",
    "\n",
    "    # Compute loss on training set\n",
    "    loss = loss_function(train_prediction, train_labels)\n",
    "    \n",
    "    # Evaluate accuracies (argmax extracts the index of the highest value in tensor)\n",
    "    is_corrrect = torch.argmax(train_prediction, 1) == train_labels\n",
    "    train_accuracy.append(is_corrrect.sum()/len(train_labels))\n",
    "    is_corrrect = torch.argmax(test_prediction, 1) == test_labels\n",
    "    test_accuracy.append(is_corrrect.sum()/len(test_labels))\n",
    "\n",
    "    # Improve network weights\n",
    "    optimizer.zero_grad()\n",
    "    loss.backward()\n",
    "    optimizer.step()\n",
    "\n",
    "print(f\"Final accuracy on test set is {test_accuracy[-1]:.3f}\")\n"
   ]
  },
  {
   "cell_type": "markdown",
   "metadata": {},
   "source": [
    "## Visualization of results\n",
    "\n",
    "During training we saved the accuracy on the training set and test set:"
   ]
  },
  {
   "cell_type": "code",
   "execution_count": 6,
   "metadata": {
    "collapsed": true,
    "jupyter": {
     "outputs_hidden": true
    }
   },
   "outputs": [
    {
     "data": {
      "image/png": "[encoded data removed]",
      "text/plain": [
       "<Figure size 640x480 with 1 Axes>"
      ]
     },
     "metadata": {},
     "output_type": "display_data"
    }
   ],
   "source": [
    "import matplotlib.pyplot as plt \n",
    "\n",
    "plt.plot(train_accuracy, label=\"Training set\")\n",
    "plt.plot(test_accuracy, label=\"Test set\")\n",
    "plt.title(\"Accuracy during learning\")\n",
    "plt.xlabel(\"Epochs\")\n",
    "plt.ylim([0,1])\n",
    "plt.legend()\n",
    "plt.grid()\n",
    "plt.show()"
   ]
  },
  {
   "cell_type": "markdown",
   "metadata": {},
   "source": [
    "Let's tak a look at a couple of classified samples"
   ]
  },
  {
   "cell_type": "code",
   "execution_count": 7,
   "metadata": {
    "collapsed": true,
    "jupyter": {
     "outputs_hidden": true
    }
   },
   "outputs": [
    {
     "data": {
      "image/png": "[encoded data removed]",
      "text/plain": [
       "<Figure size 640x480 with 24 Axes>"
      ]
     },
     "metadata": {},
     "output_type": "display_data"
    }
   ],
   "source": [
    "n_rows = 4 \n",
    "n_cols = 6\n",
    "\n",
    "fig, ax = plt.subplots(n_rows, n_cols)\n",
    "n = 0\n",
    "for i in range(n_rows):\n",
    "    for j in range(n_cols):\n",
    "        pred = torch.argmax(dense_net(test_images[n].flatten()))\n",
    "        ax[i,j].imshow(test_data.data[n], cmap=\"gray_r\")\n",
    "        ax[i,j].set_axis_off()\n",
    "        lbl = test_data.targets[n]\n",
    "        ax[i,j].set_title(f\"Pred:{pred}{lbl}\")\n",
    "        n += 1\n",
    "\n",
    "plt.tight_layout()"
   ]
  },
  {
   "cell_type": "markdown",
   "metadata": {},
   "source": [
    "## Create a convolutional neural network\n",
    "\n",
    "The demonstrated example works nicely, however we need to train a lot of weights and the simple model won't be able to get towards superior accuracy. A better approach for image processing are convolutional neural networks. Here, we use a standard network architecture for the MNIST Dataset:\n",
    "\n",
    "![Convolutional Neural Network](data/conv_net.png)\n"
   ]
  },
  {
   "cell_type": "code",
   "execution_count": 8,
   "metadata": {
    "collapsed": true,
    "jupyter": {
     "outputs_hidden": true
    }
   },
   "outputs": [],
   "source": [
    "class ConvolutionalNet(nn.Module):\n",
    "    def __init__(self):\n",
    "      super().__init__()\n",
    "      self.conv1 = nn.Conv2d(1, 32, 5)\n",
    "      self.conv2 = nn.Conv2d(32, 64, 5)\n",
    "      self.dropout1 = nn.Dropout(0.25)\n",
    "      self.dropout2 = nn.Dropout(0.5)\n",
    "      self.fc1 = nn.Linear(6400, 128)\n",
    "      self.fc2 = nn.Linear(128, 10)\n",
    "\n",
    "    def forward(self, x):\n",
    "      # Pass through first convolutional layer with a 5x5 kernel\n",
    "      x = self.conv1(x)\n",
    "      x = torch.relu(x)\n",
    "      # Pass through second convolutional layer with a 5x5 kernel\n",
    "      x = self.conv2(x)\n",
    "      x = torch.relu(x)\n",
    "      # For groups of 2x2 pixels pass only the maximum value\n",
    "      x = torch.max_pool2d(x, 2)\n",
    "      # Randomly zero some elements\n",
    "      x = self.dropout1(x)\n",
    "      # Flatten latest tensor to a vector\n",
    "      x = torch.flatten(x, 1)\n",
    "      # Pass through first fully connected layer\n",
    "      x = self.fc1(x)\n",
    "      x = torch.relu(x)\n",
    "      # Randomly zero some elements\n",
    "      x = self.dropout2(x)\n",
    "      # Pass through second fully connected layer\n",
    "      x = self.fc2(x)\n",
    "      return torch.log_softmax(x, dim=1)\n",
    "    \n",
    "conv_net = ConvolutionalNet()"
   ]
  },
  {
   "cell_type": "markdown",
   "metadata": {},
   "source": [
    "Here, we use data loaders to get batches of datasets and manipulate the items with ToTensor instead of the previous manual data prepartaion:"
   ]
  },
  {
   "cell_type": "code",
   "execution_count": 9,
   "metadata": {
    "collapsed": true,
    "jupyter": {
     "outputs_hidden": true
    }
   },
   "outputs": [],
   "source": [
    "from torch.utils.data import DataLoader\n",
    "from torchvision.transforms import ToTensor\n",
    "\n",
    "train_data = datasets.MNIST(root=\"data\", train=True, transform=ToTensor())\n",
    "test_data = datasets.MNIST(root=\"data\", train=False, transform=ToTensor())\n",
    "\n",
    "training_loader = DataLoader(train_data, batch_size=100)\n",
    "test_loader = DataLoader(test_data, batch_size=10000)"
   ]
  },
  {
   "cell_type": "code",
   "execution_count": 10,
   "metadata": {
    "collapsed": true,
    "jupyter": {
     "outputs_hidden": true
    }
   },
   "outputs": [
    {
     "name": "stdout",
     "output_type": "stream",
     "text": [
      "Loss after epoch 0: 0.4325186610221863\n",
      "Loss after epoch 1: 0.2996383011341095\n",
      "Loss after epoch 2: 0.4051893353462219\n",
      "Loss after epoch 3: 0.33643439412117004\n",
      "Loss after epoch 4: 0.38847705721855164\n",
      "Loss after epoch 5: 0.2847225069999695\n",
      "Loss after epoch 6: 0.4575343728065491\n",
      "Loss after epoch 7: 0.6029589176177979\n",
      "Loss after epoch 8: 0.35977813601493835\n",
      "Loss after epoch 9: 0.22900715470314026\n"
     ]
    }
   ],
   "source": [
    "optimizer = optim.Adam(conv_net.parameters(), lr = 0.01)   \n",
    "loss_function = nn.CrossEntropyLoss()\n",
    "\n",
    "conv_net.train()\n",
    "\n",
    "for epoch in range(10):\n",
    "    for images, labels in training_loader:\n",
    "        # Pass images through network and compute loss \n",
    "        train_prediction = conv_net(images)\n",
    "        # Compute loss on training set\n",
    "        loss = loss_function(train_prediction, labels)\n",
    "        # Improve network weights\n",
    "        optimizer.zero_grad()\n",
    "        loss.backward()\n",
    "        optimizer.step()\n",
    "    \n",
    "    print(f\"Loss after epoch {epoch}: {loss.item()}\")\n",
    "\n"
   ]
  },
  {
   "cell_type": "code",
   "execution_count": 11,
   "metadata": {
    "collapsed": true,
    "jupyter": {
     "outputs_hidden": true
    }
   },
   "outputs": [
    {
     "name": "stdout",
     "output_type": "stream",
     "text": [
      "Test batch accuracy with 10000 samples is 97.99%.\n"
     ]
    }
   ],
   "source": [
    "conv_net.eval()\n",
    "\n",
    "for images, labels in test_loader:\n",
    "    test_prediction = conv_net(images)\n",
    "    is_corrrect = torch.argmax(test_prediction, 1) == labels\n",
    "    accuracy = is_corrrect.sum() / len(labels) * 100.0\n",
    "    print(f\"Test batch accuracy with {len(labels)} samples is {accuracy:.2f}%.\")"
   ]
  },
  {
   "cell_type": "markdown",
   "metadata": {},
   "source": [
    "Currently, the best results on the MNIST dataset achieve 99.82%. It is unlikely to get to 100% accuracy, as some digits are very ambiguous..."
   ]
  }
 ],
 "metadata": {
  "kernelspec": {
   "display_name": "Python 3 (ipykernel)",
   "language": "python",
   "name": "python3"
  },
  "language_info": {
   "codemirror_mode": {
    "name": "ipython",
    "version": 3
   },
   "file_extension": ".py",
   "mimetype": "text/x-python",
   "name": "python",
   "nbconvert_exporter": "python",
   "pygments_lexer": "ipython3",
   "version": "3.9.15"
  },
  "vscode": {
   "interpreter": {
    "hash": "53e816d343ac3b69abbe00d0113a5825a790940e53acda2e016fe2e76fc78702"
   }
  }
 },
 "nbformat": 4,
 "nbformat_minor": 4
}
